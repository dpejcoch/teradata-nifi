{
 "cells": [
  {
   "cell_type": "markdown",
   "id": "0d206097-5c15-44e0-9a60-ab07798486a2",
   "metadata": {},
   "source": [
    "# Create Kafka Topic"
   ]
  },
  {
   "cell_type": "markdown",
   "id": "88d08339-73a4-4288-ac4a-e0f086a0793c",
   "metadata": {},
   "source": [
    "## Create testing topic"
   ]
  },
  {
   "cell_type": "markdown",
   "id": "0b42a80f-50e7-44dc-969b-1c6cc727593d",
   "metadata": {},
   "source": [
    "* For internal (within docker containers) use kafka:9092\n",
    "* For external (outside from docker containers) use localhost:9093 "
   ]
  },
  {
   "cell_type": "code",
   "execution_count": 4,
   "id": "08fc18bb-959e-47cc-a3cf-8881a1013a82",
   "metadata": {},
   "outputs": [
    {
     "data": {
      "text/plain": [
       "{'iris_topic': <Future at 0x113b2a8e0 state=running>}"
      ]
     },
     "execution_count": 4,
     "metadata": {},
     "output_type": "execute_result"
    }
   ],
   "source": [
    "from confluent_kafka.admin import AdminClient, NewTopic\n",
    "\n",
    "\n",
    "admin_client = AdminClient({\n",
    "    \"bootstrap.servers\": \"localhost:9093\"\n",
    "})\n",
    "\n",
    "topic_list = []\n",
    "topic_list.append(NewTopic(\"iris_topic\", 1, 1))\n",
    "admin_client.create_topics(topic_list)"
   ]
  },
  {
   "cell_type": "markdown",
   "id": "e98be5fc-3c62-4bc1-b1df-7dc4ffea08cc",
   "metadata": {},
   "source": [
    "## Check whether topic was created"
   ]
  },
  {
   "cell_type": "markdown",
   "id": "0b973eba",
   "metadata": {},
   "source": []
  },
  {
   "cell_type": "code",
   "execution_count": 5,
   "id": "c21735d6-f930-4f2f-8f38-19ca8a680a24",
   "metadata": {
    "tags": []
   },
   "outputs": [
    {
     "name": "stdout",
     "output_type": "stream",
     "text": [
      "{'iris_topic': TopicMetadata(iris_topic, 1 partitions)}\n"
     ]
    }
   ],
   "source": [
    "from confluent_kafka.admin import AdminClient\n",
    "\n",
    "kafka_broker = {'bootstrap.servers': 'localhost:9093'}\n",
    "admin_client = AdminClient(kafka_broker)\n",
    "topics = admin_client.list_topics().topics\n",
    "\n",
    "if not topics: \n",
    "    raise RuntimeError()\n",
    "else:\n",
    "    print(topics)"
   ]
  },
  {
   "cell_type": "code",
   "execution_count": null,
   "id": "7dad115f",
   "metadata": {},
   "outputs": [],
   "source": []
  }
 ],
 "metadata": {
  "kernelspec": {
   "display_name": "Python 3 (ipykernel)",
   "language": "python",
   "name": "python3"
  },
  "language_info": {
   "codemirror_mode": {
    "name": "ipython",
    "version": 3
   },
   "file_extension": ".py",
   "mimetype": "text/x-python",
   "name": "python",
   "nbconvert_exporter": "python",
   "pygments_lexer": "ipython3",
   "version": "3.9.6"
  }
 },
 "nbformat": 4,
 "nbformat_minor": 5
}
